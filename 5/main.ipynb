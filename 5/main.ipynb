{
 "cells": [
  {
   "cell_type": "markdown",
   "metadata": {},
   "source": [
    "16"
   ]
  },
  {
   "cell_type": "code",
   "execution_count": 1,
   "metadata": {},
   "outputs": [
    {
     "name": "stdout",
     "output_type": "stream",
     "text": [
      "40.1 ms ± 1.22 ms per loop (mean ± std. dev. of 7 runs, 10 loops each)\n"
     ]
    }
   ],
   "source": [
    "import time \n",
    "import numpy as np\n",
    "import matplotlib.pyplot as plt\n",
    "import timeit\n",
    "\n",
    "from Cython_version1 import update as cython1\n",
    "from Cython_version2 import update as cython2\n",
    "from Cython_version3 import update as cython3\n",
    "from Cython_version4 import update as cython4\n",
    "import main\n",
    "\n",
    "# run the function to check if it works\n",
    "\n",
    "def initialize(size=300):\n",
    "    lattice = [[0 for _ in range(size)] for _ in range(size)]\n",
    "\n",
    "    center = size // 2\n",
    "    for i in range(size):\n",
    "        lattice[i][center] = 1\n",
    "        lattice[center][i] = 1\n",
    "    return lattice\n",
    "\n",
    "lattice = initialize()\n",
    "\n",
    "# profile the main code\n",
    "%timeit main.update(lattice)\n"
   ]
  },
  {
   "cell_type": "code",
   "execution_count": 3,
   "metadata": {},
   "outputs": [
    {
     "name": "stdout",
     "output_type": "stream",
     "text": [
      "45.4 ms ± 576 µs per loop (mean ± std. dev. of 7 runs, 10 loops each)\n"
     ]
    }
   ],
   "source": [
    "%%timeit\n",
    "cython1(lattice)\n",
    "cython2(lattice)\n",
    "cython3(lattice)    \n",
    "cython4(lattice)"
   ]
  },
  {
   "cell_type": "code",
   "execution_count": 4,
   "metadata": {},
   "outputs": [
    {
     "name": "stdout",
     "output_type": "stream",
     "text": [
      "18 ms ± 429 µs per loop (mean ± std. dev. of 7 runs, 100 loops each)\n",
      "10.1 ms ± 173 µs per loop (mean ± std. dev. of 7 runs, 100 loops each)\n",
      "9.35 ms ± 216 µs per loop (mean ± std. dev. of 7 runs, 100 loops each)\n",
      "8.33 ms ± 30.1 µs per loop (mean ± std. dev. of 7 runs, 100 loops each)\n"
     ]
    }
   ],
   "source": [
    "%timeit cython1(lattice)\n",
    "%timeit cython2(lattice)\n",
    "%timeit cython3(lattice)\n",
    "%timeit cython4(lattice)"
   ]
  }
 ],
 "metadata": {
  "kernelspec": {
   "display_name": "HPC",
   "language": "python",
   "name": "python3"
  },
  "language_info": {
   "codemirror_mode": {
    "name": "ipython",
    "version": 3
   },
   "file_extension": ".py",
   "mimetype": "text/x-python",
   "name": "python",
   "nbconvert_exporter": "python",
   "pygments_lexer": "ipython3",
   "version": "3.10.12"
  }
 },
 "nbformat": 4,
 "nbformat_minor": 2
}

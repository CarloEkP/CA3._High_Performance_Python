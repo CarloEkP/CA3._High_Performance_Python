{
 "cells": [
  {
   "cell_type": "markdown",
   "metadata": {},
   "source": [
    "8"
   ]
  },
  {
   "cell_type": "code",
   "execution_count": 16,
   "metadata": {},
   "outputs": [
    {
     "data": {
      "text/html": [
       "<div>\n",
       "<style scoped>\n",
       "    .dataframe tbody tr th:only-of-type {\n",
       "        vertical-align: middle;\n",
       "    }\n",
       "\n",
       "    .dataframe tbody tr th {\n",
       "        vertical-align: top;\n",
       "    }\n",
       "\n",
       "    .dataframe thead th {\n",
       "        text-align: right;\n",
       "    }\n",
       "</style>\n",
       "<table border=\"1\" class=\"dataframe\">\n",
       "  <thead>\n",
       "    <tr style=\"text-align: right;\">\n",
       "      <th></th>\n",
       "      <th>list.pop()</th>\n",
       "      <th>list.pop(0)</th>\n",
       "      <th>list.append(1)</th>\n",
       "      <th>list.insert(0, 1)</th>\n",
       "    </tr>\n",
       "  </thead>\n",
       "  <tbody>\n",
       "    <tr>\n",
       "      <th>0</th>\n",
       "      <td>2.262300e-14</td>\n",
       "      <td>1.026081e-12</td>\n",
       "      <td>2.076300e-14</td>\n",
       "      <td>3.674727e-12</td>\n",
       "    </tr>\n",
       "    <tr>\n",
       "      <th>1</th>\n",
       "      <td>3.575600e-14</td>\n",
       "      <td>2.056150e-12</td>\n",
       "      <td>2.920400e-14</td>\n",
       "      <td>6.748692e-12</td>\n",
       "    </tr>\n",
       "    <tr>\n",
       "      <th>2</th>\n",
       "      <td>2.605100e-14</td>\n",
       "      <td>3.913532e-12</td>\n",
       "      <td>4.079200e-14</td>\n",
       "      <td>9.368635e-12</td>\n",
       "    </tr>\n",
       "  </tbody>\n",
       "</table>\n",
       "</div>"
      ],
      "text/plain": [
       "     list.pop()   list.pop(0)  list.append(1)  list.insert(0, 1)\n",
       "0  2.262300e-14  1.026081e-12    2.076300e-14       3.674727e-12\n",
       "1  3.575600e-14  2.056150e-12    2.920400e-14       6.748692e-12\n",
       "2  2.605100e-14  3.913532e-12    4.079200e-14       9.368635e-12"
      ]
     },
     "execution_count": 16,
     "metadata": {},
     "output_type": "execute_result"
    }
   ],
   "source": [
    "import pandas as pd\n",
    "import timeit\n",
    "size = [10000, 20000, 30000]\n",
    "operations = {\n",
    "    \"list.pop()\" : 'lst.pop()',\n",
    "    \"list.pop(0)\" : 'lst.pop(0)',\n",
    "    \"list.append(1)\" : 'lst.append(1)',\n",
    "    \"list.insert(0, 1)\" : 'lst.insert(0, 1)',\n",
    "}\n",
    "\n",
    "results = {op: [] for op in operations}\n",
    "\n",
    "for n in size:\n",
    "    for operation, function in operations.items():\n",
    "        code = f\"lst = list(range({n}))\"\n",
    "        time = timeit.timeit(stmt=function, setup=code, number=1000)\n",
    "        time /= 1000 * 1e6  \n",
    "\n",
    "        results[operation].append(time)\n",
    "\n",
    "\n",
    "df = pd.DataFrame(results)\n",
    "\n",
    "df"
   ]
  },
  {
   "cell_type": "markdown",
   "metadata": {},
   "source": [
    "9"
   ]
  },
  {
   "cell_type": "code",
   "execution_count": 17,
   "metadata": {},
   "outputs": [
    {
     "data": {
      "text/html": [
       "<div>\n",
       "<style scoped>\n",
       "    .dataframe tbody tr th:only-of-type {\n",
       "        vertical-align: middle;\n",
       "    }\n",
       "\n",
       "    .dataframe tbody tr th {\n",
       "        vertical-align: top;\n",
       "    }\n",
       "\n",
       "    .dataframe thead th {\n",
       "        text-align: right;\n",
       "    }\n",
       "</style>\n",
       "<table border=\"1\" class=\"dataframe\">\n",
       "  <thead>\n",
       "    <tr style=\"text-align: right;\">\n",
       "      <th></th>\n",
       "      <th>deque.pop()</th>\n",
       "      <th>deque.popleft</th>\n",
       "      <th>deque.append(1)</th>\n",
       "      <th>deque.appendleft(1)</th>\n",
       "    </tr>\n",
       "  </thead>\n",
       "  <tbody>\n",
       "    <tr>\n",
       "      <th>0</th>\n",
       "      <td>2.257900e-14</td>\n",
       "      <td>2.107700e-14</td>\n",
       "      <td>2.829000e-14</td>\n",
       "      <td>2.263200e-14</td>\n",
       "    </tr>\n",
       "    <tr>\n",
       "      <th>1</th>\n",
       "      <td>2.314800e-14</td>\n",
       "      <td>2.231600e-14</td>\n",
       "      <td>2.185200e-14</td>\n",
       "      <td>2.184700e-14</td>\n",
       "    </tr>\n",
       "    <tr>\n",
       "      <th>2</th>\n",
       "      <td>2.402500e-14</td>\n",
       "      <td>4.026100e-14</td>\n",
       "      <td>2.236300e-14</td>\n",
       "      <td>3.204500e-14</td>\n",
       "    </tr>\n",
       "  </tbody>\n",
       "</table>\n",
       "</div>"
      ],
      "text/plain": [
       "    deque.pop()  deque.popleft  deque.append(1)  deque.appendleft(1)\n",
       "0  2.257900e-14   2.107700e-14     2.829000e-14         2.263200e-14\n",
       "1  2.314800e-14   2.231600e-14     2.185200e-14         2.184700e-14\n",
       "2  2.402500e-14   4.026100e-14     2.236300e-14         3.204500e-14"
      ]
     },
     "execution_count": 17,
     "metadata": {},
     "output_type": "execute_result"
    }
   ],
   "source": [
    "operations = {\n",
    "    'deque.pop()': 'dq.pop()',\n",
    "    'deque.popleft': 'dq.popleft()',\n",
    "    'deque.append(1)': 'dq.append(1)',\n",
    "    'deque.appendleft(1)': 'dq.appendleft(1)'\n",
    "}\n",
    "\n",
    "results = {op: [] for op in operations}\n",
    "\n",
    "for n in size:\n",
    "    for operation, function in operations.items():\n",
    "        code = f\"from collections import deque\\n\" \\\n",
    "                   f\"dq = deque(range({n}))\"\n",
    "        time = timeit.timeit(stmt=function, setup=code, number=1000)\n",
    "        time /= 1000 * 1e6\n",
    "\n",
    "        results[operation].append(time)\n",
    "\n",
    "df = pd.DataFrame(results)\n",
    "df"
   ]
  },
  {
   "cell_type": "markdown",
   "metadata": {},
   "source": [
    "10"
   ]
  },
  {
   "cell_type": "code",
   "execution_count": 18,
   "metadata": {},
   "outputs": [
    {
     "data": {
      "text/html": [
       "<div>\n",
       "<style scoped>\n",
       "    .dataframe tbody tr th:only-of-type {\n",
       "        vertical-align: middle;\n",
       "    }\n",
       "\n",
       "    .dataframe tbody tr th {\n",
       "        vertical-align: top;\n",
       "    }\n",
       "\n",
       "    .dataframe thead th {\n",
       "        text-align: right;\n",
       "    }\n",
       "</style>\n",
       "<table border=\"1\" class=\"dataframe\">\n",
       "  <thead>\n",
       "    <tr style=\"text-align: right;\">\n",
       "      <th></th>\n",
       "      <th>deque[0]</th>\n",
       "      <th>deque[N-1]</th>\n",
       "      <th>deque[int(N/2)]</th>\n",
       "    </tr>\n",
       "  </thead>\n",
       "  <tbody>\n",
       "    <tr>\n",
       "      <th>0</th>\n",
       "      <td>2.139800e-14</td>\n",
       "      <td>3.587500e-14</td>\n",
       "      <td>1.569830e-13</td>\n",
       "    </tr>\n",
       "    <tr>\n",
       "      <th>1</th>\n",
       "      <td>1.975700e-14</td>\n",
       "      <td>5.138400e-14</td>\n",
       "      <td>2.654850e-13</td>\n",
       "    </tr>\n",
       "    <tr>\n",
       "      <th>2</th>\n",
       "      <td>1.502700e-14</td>\n",
       "      <td>3.077700e-14</td>\n",
       "      <td>4.314670e-13</td>\n",
       "    </tr>\n",
       "  </tbody>\n",
       "</table>\n",
       "</div>"
      ],
      "text/plain": [
       "       deque[0]    deque[N-1]  deque[int(N/2)]\n",
       "0  2.139800e-14  3.587500e-14     1.569830e-13\n",
       "1  1.975700e-14  5.138400e-14     2.654850e-13\n",
       "2  1.502700e-14  3.077700e-14     4.314670e-13"
      ]
     },
     "execution_count": 18,
     "metadata": {},
     "output_type": "execute_result"
    }
   ],
   "source": [
    "operations = {\n",
    "    'deque[0]': 'dq[0]',\n",
    "    'deque[N-1]': 'dq[N-1]',\n",
    "    'deque[int(N/2)]': 'dq[int(N/2)]',\n",
    "}\n",
    "\n",
    "\n",
    "results = {op: [] for op in operations}\n",
    "\n",
    "for n in size:\n",
    "    for op, stmt in operations.items():\n",
    "        code = f'from collections import deque; N = {n}; dq = deque(range(N))'\n",
    "        time = timeit.timeit(stmt=stmt, setup=code, number=1000)\n",
    "        time /= 1000 * 1e6\n",
    "        results[op].append(time)\n",
    "\n",
    "df = pd.DataFrame(results)\n",
    "\n",
    "df"
   ]
  }
 ],
 "metadata": {
  "kernelspec": {
   "display_name": ".venv",
   "language": "python",
   "name": "python3"
  },
  "language_info": {
   "codemirror_mode": {
    "name": "ipython",
    "version": 3
   },
   "file_extension": ".py",
   "mimetype": "text/x-python",
   "name": "python",
   "nbconvert_exporter": "python",
   "pygments_lexer": "ipython3",
   "version": "3.10.12"
  }
 },
 "nbformat": 4,
 "nbformat_minor": 2
}

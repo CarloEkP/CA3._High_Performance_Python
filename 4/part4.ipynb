{
 "cells": [
  {
   "cell_type": "markdown",
   "metadata": {},
   "source": [
    "14"
   ]
  },
  {
   "cell_type": "code",
   "execution_count": 1,
   "metadata": {},
   "outputs": [],
   "source": [
    "import numpy as np\n",
    "from random import uniform\n",
    "\n",
    "class Particle:\n",
    "    def __init__(self, x, y, velocidad_angular):\n",
    "        self.x = x\n",
    "        self.y = y\n",
    "        self.velocidad_angular = velocidad_angular\n",
    "\n",
    "class ParticleSimulator:\n",
    "\n",
    "    def __init__(self, particles):\n",
    "        self.particles = particles\n",
    "\n",
    "    def evolve_python(self, dt):\n",
    "        timestep = 0.00001\n",
    "        nsteps = int(dt / timestep)\n",
    "        for i in range(nsteps):\n",
    "            for p in self.particles:\n",
    "                norm = (p.x**2 + p.y**2)**0.5\n",
    "                v_x = (-p.y) / norm\n",
    "                v_y = p.x / norm\n",
    "                d_x = timestep * p.velocidad_angular * v_x\n",
    "                d_y = timestep * p.velocidad_angular * v_y\n",
    "                p.x += d_x\n",
    "                p.y += d_y\n",
    "\n",
    "    def evolve_numpy(self, dt):\n",
    "        timestep = 0.00001\n",
    "        nsteps = int(dt / timestep)\n",
    "        r_i = np.array([[p.x, p.y] for p in self.particles])\n",
    "        velocidad_angular_i = np.array([p.velocidad_angular for p in self.particles])\n",
    "        for i in range(nsteps):\n",
    "            norm_i = np.sqrt((r_i ** 2).sum(axis=1))\n",
    "            v_i = r_i[:, [1, 0]] * np.array([-1, 1]) / norm_i[:, np.newaxis]\n",
    "            d_i = timestep * velocidad_angular_i[:, np.newaxis] * v_i\n",
    "            r_i += d_i\n",
    "        for i, p in enumerate(self.particles):\n",
    "            p.x, p.y = r_i[i]\n",
    "\n",
    " \n",
    "def benchmark(npart=1000, method='python'):\n",
    "    particles = [Particle(uniform(-1.0, 1.0), uniform(-1.0, 1.0), uniform(-1.0, 1.0)) for _ in range(npart)]\n",
    "    simulator = ParticleSimulator(particles)\n",
    "    if method == 'python':\n",
    "        simulator.evolve_python(0.1)\n",
    "    elif method == 'numpy':\n",
    "        simulator.evolve_numpy(0.1)\n",
    "\n",
    "if __name__ == \"__main__\":\n",
    "    benchmark(npart=10, method='python')\n",
    "    benchmark(npart=10, method='numpy')"
   ]
  },
  {
   "cell_type": "code",
   "execution_count": 2,
   "metadata": {},
   "outputs": [
    {
     "name": "stdout",
     "output_type": "stream",
     "text": [
      "3.5270255730001736\n",
      "0.30780913399985366\n"
     ]
    }
   ],
   "source": [
    "from timeit import timeit\n",
    "\n",
    "# Profiling\n",
    "print(timeit(\"benchmark(1000, 'python')\", globals=globals(), number=1))\n",
    "print(timeit(\"benchmark(1000, 'numpy')\", globals=globals(), number=1))"
   ]
  },
  {
   "cell_type": "markdown",
   "metadata": {},
   "source": [
    "15"
   ]
  },
  {
   "cell_type": "code",
   "execution_count": 4,
   "metadata": {},
   "outputs": [],
   "source": [
    "import numpy as np\n",
    "import numexpr as ne\n",
    "import time\n",
    "\n",
    "\n",
    "def approximate_pi_numpy(n):\n",
    "    np.random.seed(0)  # Seed for reproducibility\n",
    "    x = np.random.rand(n)  # Generate n random points in the x\n",
    "    y = np.random.rand(n)  # Generate n random points in the y\n",
    "    inside_circle = x**2 + y**2 <= 1  # Check if points are inside the unit circle\n",
    "    pi_approx = 4 * np.sum(inside_circle) / n  # Approximate Pi\n",
    "    return pi_approx\n",
    "\n",
    "def approximate_pi_numexpr(n):\n",
    "    np.random.seed(0)  # Seed for reproducibility\n",
    "    x = np.random.rand(n)  # Generate n random points in the x\n",
    "    y = np.random.rand(n)  # Generate n random points in the y\n",
    "    inside_circle = ne.evaluate(\"x**2 + y**2 <= 1\")  # Check if points are inside the unit circle using numexpr\n",
    "    pi_approx = 4 * np.sum(inside_circle) / n  # Approximate Pi\n",
    "    return pi_approx\n",
    "\n",
    "n = 10**7  # Number of points to generate\n",
    "\n",
    "# Timing numpy\n",
    "pi_numpy = approximate_pi_numpy(n)\n",
    "\n",
    "# Timing numexpr\n",
    "pi_numexpr = approximate_pi_numexpr(n)\n"
   ]
  },
  {
   "cell_type": "code",
   "execution_count": 8,
   "metadata": {},
   "outputs": [
    {
     "name": "stdout",
     "output_type": "stream",
     "text": [
      "183 ms ± 17.1 ms per loop (mean ± std. dev. of 10 runs, 10 loops each)\n",
      "113 ms ± 6.75 ms per loop (mean ± std. dev. of 10 runs, 10 loops each)\n"
     ]
    }
   ],
   "source": [
    "#profiling\n",
    "from timeit import timeit\n",
    "\n",
    "%timeit -n10 -r10 approximate_pi_numpy(10**7)\n",
    "%timeit -n10 -r10 approximate_pi_numexpr(10**7)"
   ]
  }
 ],
 "metadata": {
  "kernelspec": {
   "display_name": "HPC",
   "language": "python",
   "name": "python3"
  },
  "language_info": {
   "codemirror_mode": {
    "name": "ipython",
    "version": 3
   },
   "file_extension": ".py",
   "mimetype": "text/x-python",
   "name": "python",
   "nbconvert_exporter": "python",
   "pygments_lexer": "ipython3",
   "version": "3.10.12"
  }
 },
 "nbformat": 4,
 "nbformat_minor": 2
}
